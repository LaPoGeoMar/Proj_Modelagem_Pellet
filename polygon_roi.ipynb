{
 "cells": [
  {
   "cell_type": "code",
   "execution_count": null,
   "id": "2c6eec83",
   "metadata": {},
   "outputs": [],
   "source": [
    "import folium\n",
    "import geopandas\n",
    "from folium.plugins import Draw, Fullscreen\n",
    "\n",
    "# gdf = geopandas.read_file(\"data/roi.geojon\")\n",
    "gdf = geopandas.read_file(\"data/roi-no-bombinhas.geojon\")\n",
    "\n",
    "bbox = [\n",
    "    -48.86960220336914,\n",
    "    -47.509605407714844,\n",
    "    -28.620038986206055,\n",
    "    -26.47003936767578,\n",
    "]\n",
    "\n",
    "min_lat, max_lat = -29, -26\n",
    "min_lon, max_lon = -49, -47\n",
    "\n",
    "m = folium.Map(\n",
    "    location=[-27.5, -47.5],\n",
    "    zoom_start=10,\n",
    ")\n",
    "\n",
    "folium.Rectangle(\n",
    "    [(min_lat, min_lon), (max_lat, max_lon)],\n",
    "    weight=2,\n",
    "    fill_color=\"orange\",\n",
    "    fill_opacity=0.4,\n",
    ").add_to(m)\n",
    "\n",
    "\n",
    "Fullscreen().add_to(m)\n",
    "Draw(export=True).add_to(m)\n",
    "folium.GeoJson(gdf).add_to(m)\n",
    "m"
   ]
  }
 ],
 "metadata": {
  "kernelspec": {
   "display_name": "Python 3 (ipykernel)",
   "language": "python",
   "name": "python3"
  },
  "language_info": {
   "codemirror_mode": {
    "name": "ipython",
    "version": 3
   },
   "file_extension": ".py",
   "mimetype": "text/x-python",
   "name": "python",
   "nbconvert_exporter": "python",
   "pygments_lexer": "ipython3",
   "version": "3.11.6"
  }
 },
 "nbformat": 4,
 "nbformat_minor": 5
}
