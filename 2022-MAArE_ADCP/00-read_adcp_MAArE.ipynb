{
 "cells": [
  {
   "cell_type": "markdown",
   "id": "4cde66c1",
   "metadata": {},
   "source": [
    "# Série Temporal Maare\n",
    "\t\n",
    "\n",
    "**Dados_brutos_Maare_2016_HDM.xlsx** :: Parece ser a série completa porém faltando as abas de meteorologia.\n",
    "\n",
    "**MAArE_HDMdados_201508.xlsx** :: Parece ser a mesma série, truncada em um gap em 2015, com as abas de meteorologia.\n",
    "\n",
    "**MAArE_HDMdados_201607_AdpRadMet.xlsx** :: Perece ser o mesmo que o Dados_brutos_Maare_2016_HDM.xlsx mas com uma aba _Meteo_SaoJose_ no lugar da _Meteo_Aeroporto_, a meteorologia não bate as datas! \n",
    "\n",
    "Abas:\n",
    "\n",
    "- [X] Corrente :: Dados_brutos_Maare_2016_HDM.xlsx\n",
    "- [X] Nivel_Temp :: Dados_brutos_Maare_2016_HDM.xlsx\n",
    "- [X] Ondas :: Dados_brutos_Maare_2016_HDM.xlsx\n",
    "- [X] Nivel_Capitania :: Dados_brutos_Maare_2016_HDM.xlsx\n",
    "- [ ] Meteo_Peri\n",
    "- [ ] Meteo_Aeroporto\n",
    "- [ ] Meteo_SaoJose"
   ]
  },
  {
   "cell_type": "code",
   "execution_count": 1,
   "id": "fb8ea2d7",
   "metadata": {},
   "outputs": [],
   "source": [
    "import pandas as pd\n",
    "\n",
    "\n",
    "def read_sheet(fname, sheet_name):\n",
    "    df = pd.read_excel(\n",
    "        fname,\n",
    "        sheet_name=sheet_name,\n",
    "        skiprows=20,\n",
    "        na_values=-999.0,\n",
    "    ).dropna(axis=1, how=\"all\")\n",
    "    index = pd.to_datetime(\n",
    "        {\n",
    "            \"year\": df[\"Ano\"],\n",
    "            \"month\": df[\"Mes\"],\n",
    "            \"day\": df[\"Dia\"],\n",
    "            \"hour\": df[\"Hora\"],\n",
    "        },\n",
    "    )\n",
    "    df.index = index\n",
    "    return df.drop([\"Ano\", \"Mes\", \"Dia\", \"Hora\"], axis=1)"
   ]
  },
  {
   "cell_type": "markdown",
   "id": "ed56bf70",
   "metadata": {},
   "source": [
    "## ADCP\n",
    "\n",
    "- Estação Amostral:\tADP - P14\n",
    "- Latitude:\t-27.253183\n",
    "- Longitude:\t-48.401215\n",
    "- Datum:\tSIRGAS-2000\n",
    "- Declinação Magnética\tcorrigida\n",
    "\n",
    "\n",
    "- Intervalo de Amostragem:\t60 minutos\n",
    "- Tempo de Amostragem:\t5 minutos\n",
    "- Taxa de Aquisição Interna:\t1000 kHz\n",
    "\n",
    "\n",
    "- Início da Série Temporal:\t3/30/2014 12:00\n",
    "- Término da Série Temporal:\t7/2/2015 10:00\n",
    "- Total [dias]\t458.92\n",
    "\n",
    "\n",
    "- Equipamento\tADP - Sontek\n",
    "- Marca\tSontek\n",
    "- Nº de Série\tM1327"
   ]
  },
  {
   "cell_type": "code",
   "execution_count": 2,
   "id": "d6b2b947",
   "metadata": {},
   "outputs": [
    {
     "data": {
      "text/plain": [
       "Index(['U01(m/s)', 'V01(m/s)', 'U02(m/s)', 'V02(m/s)', 'U03(m/s)', 'V03(m/s)',\n",
       "       'U04m/s)', 'V04(m/s)', 'U05(m/s)', 'V05(m/s)', 'U06m/s)', 'V06(m/s)',\n",
       "       'U07(m/s)', 'V07(m/s)', 'U08m/s)', 'V08(m/s)', 'U09(m/s)', 'V09(m/s)',\n",
       "       'U10m/s)', 'V10(m/s)', 'U11(m/s)', 'V11(m/s)', 'U12m/s)', 'V12(m/s)',\n",
       "       'U13(m/s)', 'V13(m/s)', 'U14m/s)', 'V14(m/s)', 'U15(m/s)', 'V15(m/s)',\n",
       "       'U16m/s)', 'V16(m/s)', 'AltColAgua(m)', 'Temperatura(graus)', 'Hm0(m)',\n",
       "       'DirTp(graus)', 'SprTp(graus)', 'Tp(s)'],\n",
       "      dtype='object')"
      ]
     },
     "execution_count": 2,
     "metadata": {},
     "output_type": "execute_result"
    }
   ],
   "source": [
    "adcp = read_sheet(\"Dados_brutos_Maare_2016_HDM.xlsx\", sheet_name=\"Corrente\")\n",
    "hght = read_sheet(\"Dados_brutos_Maare_2016_HDM.xlsx\", sheet_name=\"Nivel_Temp\")\n",
    "wave = read_sheet(\"Dados_brutos_Maare_2016_HDM.xlsx\", sheet_name=\"Ondas\")\n",
    "\n",
    "df = pd.concat([adcp, hght, wave], axis=1)\n",
    "df.columns"
   ]
  },
  {
   "cell_type": "markdown",
   "id": "cddea08b",
   "metadata": {},
   "source": [
    "## Height\n",
    "\n",
    "- Capitania: -48.567624, -27.595909\n",
    "\n",
    "A __Dados_brutos_Maare_2016_HDM.xlsx__ contém toda a série mas parece ter um offset de ~0.023 em relação a planilha __MAArE_HDMdados_201508.xlsx__."
   ]
  },
  {
   "cell_type": "code",
   "execution_count": 3,
   "id": "5d31f68a",
   "metadata": {},
   "outputs": [
    {
     "data": {
      "text/html": [
       "<div>\n",
       "<style scoped>\n",
       "    .dataframe tbody tr th:only-of-type {\n",
       "        vertical-align: middle;\n",
       "    }\n",
       "\n",
       "    .dataframe tbody tr th {\n",
       "        vertical-align: top;\n",
       "    }\n",
       "\n",
       "    .dataframe thead th {\n",
       "        text-align: right;\n",
       "    }\n",
       "</style>\n",
       "<table border=\"1\" class=\"dataframe\">\n",
       "  <thead>\n",
       "    <tr style=\"text-align: right;\">\n",
       "      <th></th>\n",
       "      <th>VarNivelAgua(m)</th>\n",
       "    </tr>\n",
       "  </thead>\n",
       "  <tbody>\n",
       "    <tr>\n",
       "      <th>2014-03-06 15:00:00</th>\n",
       "      <td>-0.120044</td>\n",
       "    </tr>\n",
       "    <tr>\n",
       "      <th>2014-03-06 16:00:00</th>\n",
       "      <td>-0.106248</td>\n",
       "    </tr>\n",
       "    <tr>\n",
       "      <th>2014-03-06 17:00:00</th>\n",
       "      <td>0.023671</td>\n",
       "    </tr>\n",
       "    <tr>\n",
       "      <th>2014-03-06 18:00:00</th>\n",
       "      <td>0.205399</td>\n",
       "    </tr>\n",
       "    <tr>\n",
       "      <th>2014-03-06 19:00:00</th>\n",
       "      <td>0.218173</td>\n",
       "    </tr>\n",
       "    <tr>\n",
       "      <th>...</th>\n",
       "      <td>...</td>\n",
       "    </tr>\n",
       "    <tr>\n",
       "      <th>2016-08-12 07:00:00</th>\n",
       "      <td>-0.198784</td>\n",
       "    </tr>\n",
       "    <tr>\n",
       "      <th>2016-08-12 08:00:00</th>\n",
       "      <td>-0.001366</td>\n",
       "    </tr>\n",
       "    <tr>\n",
       "      <th>2016-08-12 09:00:00</th>\n",
       "      <td>0.046683</td>\n",
       "    </tr>\n",
       "    <tr>\n",
       "      <th>2016-08-12 10:00:00</th>\n",
       "      <td>-0.045028</td>\n",
       "    </tr>\n",
       "    <tr>\n",
       "      <th>2016-08-12 11:00:00</th>\n",
       "      <td>-0.128019</td>\n",
       "    </tr>\n",
       "  </tbody>\n",
       "</table>\n",
       "<p>21357 rows × 1 columns</p>\n",
       "</div>"
      ],
      "text/plain": [
       "                     VarNivelAgua(m)\n",
       "2014-03-06 15:00:00        -0.120044\n",
       "2014-03-06 16:00:00        -0.106248\n",
       "2014-03-06 17:00:00         0.023671\n",
       "2014-03-06 18:00:00         0.205399\n",
       "2014-03-06 19:00:00         0.218173\n",
       "...                              ...\n",
       "2016-08-12 07:00:00        -0.198784\n",
       "2016-08-12 08:00:00        -0.001366\n",
       "2016-08-12 09:00:00         0.046683\n",
       "2016-08-12 10:00:00        -0.045028\n",
       "2016-08-12 11:00:00        -0.128019\n",
       "\n",
       "[21357 rows x 1 columns]"
      ]
     },
     "execution_count": 3,
     "metadata": {},
     "output_type": "execute_result"
    }
   ],
   "source": [
    "level = read_sheet(\"Dados_brutos_Maare_2016_HDM.xlsx\", sheet_name=\"Nivel_Capitania\")\n",
    "\n",
    "level"
   ]
  },
  {
   "cell_type": "code",
   "execution_count": 4,
   "id": "2463f8b4",
   "metadata": {},
   "outputs": [
    {
     "data": {
      "image/png": "[encoded data removed]",
      "text/plain": [
       "<Figure size 640x480 with 1 Axes>"
      ]
     },
     "metadata": {},
     "output_type": "display_data"
    }
   ],
   "source": [
    "level.plot();"
   ]
  }
 ],
 "metadata": {
  "kernelspec": {
   "display_name": "Python 3 (ipykernel)",
   "language": "python",
   "name": "python3"
  },
  "language_info": {
   "codemirror_mode": {
    "name": "ipython",
    "version": 3
   },
   "file_extension": ".py",
   "mimetype": "text/x-python",
   "name": "python",
   "nbconvert_exporter": "python",
   "pygments_lexer": "ipython3",
   "version": "3.11.0"
  }
 },
 "nbformat": 4,
 "nbformat_minor": 5
}
