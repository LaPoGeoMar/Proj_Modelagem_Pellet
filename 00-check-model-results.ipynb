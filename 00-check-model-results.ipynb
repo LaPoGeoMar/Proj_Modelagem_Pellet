{
 "cells": [
  {
   "cell_type": "code",
   "execution_count": null,
   "id": "bcf4e97b",
   "metadata": {},
   "outputs": [],
   "source": [
    "from pathlib import Path\n",
    "\n",
    "\n",
    "fname = Path(\"jan_2021.nc4\").absolute()"
   ]
  },
  {
   "cell_type": "code",
   "execution_count": null,
   "id": "87f9d1ea",
   "metadata": {},
   "outputs": [],
   "source": [
    "import cf_xarray\n",
    "import xarray as xr\n",
    "\n",
    "\n",
    "ds = xr.open_dataset(fname, drop_variables=\"time_bounds\")\n",
    "ds"
   ]
  },
  {
   "cell_type": "code",
   "execution_count": null,
   "id": "bd99a285",
   "metadata": {},
   "outputs": [],
   "source": [
    "variables = [\n",
    "#     \"grid_longitude\",\n",
    "#     \"grid_latitude\",\n",
    "#     \"k\",\n",
    "#     \"grid_depth\",\n",
    "    \"depth\",\n",
    "#     \"zactive\",\n",
    "#     \"area\",\n",
    "    \"waterlevel\",\n",
    "    \"velocity_x\",\n",
    "    \"velocity_y\",\n",
    "#     \"velocity_omega\",\n",
    "#     \"velocity_z\",\n",
    "#     \"tau_x\",\n",
    "#     \"tau_y\",\n",
    "#     \"density\",\n",
    "#     \"salinity\",\n",
    "#     \"temperature\",\n",
    "#     \"tke\",\n",
    "#     \"eps\",\n",
    "#     \"viscosity_z\",\n",
    "#     \"diffusivity_z\",\n",
    "#     \"Ri\",\n",
    "]\n",
    "\n",
    "subset = ds[variables].sel(\n",
    "    m=slice(-49, -47.5)  # Cut some of the western part of the domain\n",
    ").isel(\n",
    "    {\"Layer\": 0}  # just the surface\n",
    ")"
   ]
  },
  {
   "cell_type": "code",
   "execution_count": null,
   "id": "415decf3",
   "metadata": {},
   "outputs": [],
   "source": [
    "import humanize\n",
    "\n",
    "\n",
    "print(f\"Tamanho dos dados originais {humanize.naturalsize(ds.nbytes)=}\")\n",
    "print(f\"Apenas com as variáveis necessárias {humanize.naturalsize(subset.nbytes)=}\")"
   ]
  },
  {
   "cell_type": "code",
   "execution_count": null,
   "id": "b30559b9",
   "metadata": {},
   "outputs": [],
   "source": [
    "print(f\"Start: {ds.cf['T'][0].to_numpy()}\\nEnd: {ds.cf['T'][-1].to_numpy()}\")"
   ]
  },
  {
   "cell_type": "code",
   "execution_count": null,
   "id": "bed04ba3",
   "metadata": {},
   "outputs": [],
   "source": [
    "import matplotlib.pyplot as plt\n",
    "import cartopy.crs as ccrs\n",
    "from cartopy.mpl.gridliner import LONGITUDE_FORMATTER, LATITUDE_FORMATTER\n",
    "\n",
    "\n",
    "def creat_map(projection=ccrs.PlateCarree(), figsize=(9, 9), bbox=None):\n",
    "    fig, ax = plt.subplots(\n",
    "        figsize=figsize,\n",
    "        subplot_kw={\n",
    "            \"projection\": projection,\n",
    "        }\n",
    "    )\n",
    "    if bbox:\n",
    "        ax.set_extent(bbox)\n",
    "    gl = ax.gridlines(draw_labels=True)\n",
    "    gl.top_labels = gl.right_labels = False\n",
    "    gl.xformatter = LONGITUDE_FORMATTER\n",
    "    gl.yformatter = LATITUDE_FORMATTER\n",
    "    ax.plot(-48.66, -26.89, \"ro\", label=\"Itajaí\")\n",
    "    ax.coastlines(resolution=\"10m\")\n",
    "    return fig, ax\n",
    "\n",
    "fig, ax = creat_map()\n",
    "subset.cf[[\"sea_floor_depth_below_sea_level\"]][\"depth\"].T.plot.contourf(ax=ax);"
   ]
  },
  {
   "cell_type": "markdown",
   "id": "e662c3bd",
   "metadata": {},
   "source": [
    "Let's check the first layer of the first day.\n",
    "\n",
    "We need to convert the `ocean_sigma_coordinate` coordinate there to z later!"
   ]
  },
  {
   "cell_type": "code",
   "execution_count": null,
   "id": "de3ca5a4",
   "metadata": {},
   "outputs": [],
   "source": [
    "import numpy as np\n",
    "\n",
    "\n",
    "def normalize_speed(u, v):\n",
    "    u_norm = u / np.sqrt(u ** 2.0 + v ** 2.0)\n",
    "    v_norm = v / np.sqrt(u ** 2.0 + v ** 2.0)\n",
    "    speed = (u ** 2 + v ** 2) ** 0.5\n",
    "    return (u_norm, v_norm, speed)"
   ]
  },
  {
   "cell_type": "code",
   "execution_count": null,
   "id": "a02a7043",
   "metadata": {},
   "outputs": [],
   "source": [
    "first_tstep = subset.sel({\"time\": \"2021-01-01T00:00:00\"})"
   ]
  },
  {
   "cell_type": "code",
   "execution_count": null,
   "id": "6eda1e7e",
   "metadata": {},
   "outputs": [],
   "source": [
    "bbox = first_tstep[\"m\"].min(), first_tstep[\"m\"].max(), first_tstep[\"n\"].min(), first_tstep[\"n\"].max()\n",
    "bbox = [v.to_numpy() for v in bbox]\n",
    "\n",
    "\n",
    "u = first_tstep.cf[\"eastward_sea_water_velocity\"].squeeze()\n",
    "v = first_tstep.cf[\"northward_sea_water_velocity\"].squeeze()\n",
    "\n",
    "u_norm, v_norm, speed = normalize_speed(u, v)\n",
    "\n",
    "fig, ax = creat_map(bbox=bbox)\n",
    "ax.contourf(first_tstep[\"longitude\"], first_tstep[\"latitude\"], speed)\n",
    "ax.quiver(first_tstep[\"longitude\"], first_tstep[\"latitude\"], u_norm, v_norm, color=\"white\", scale=50);"
   ]
  },
  {
   "cell_type": "code",
   "execution_count": null,
   "id": "de5d3653",
   "metadata": {},
   "outputs": [],
   "source": [
    "def creat_map(projection=ccrs.PlateCarree(), figsize=(9, 9), bbox=None):\n",
    "    fig, ax = plt.subplots(\n",
    "        figsize=figsize,\n",
    "        subplot_kw={\n",
    "            \"projection\": projection,\n",
    "        }\n",
    "    )\n",
    "    if bbox:\n",
    "        ax.set_extent(bbox)\n",
    "    ax.coastlines(resolution=\"10m\")\n",
    "    gl = ax.gridlines(draw_labels=True)\n",
    "    gl.top_labels = gl.right_labels = False\n",
    "    gl.xformatter = LONGITUDE_FORMATTER\n",
    "    gl.yformatter = LATITUDE_FORMATTER\n",
    "    return fig, ax"
   ]
  },
  {
   "cell_type": "code",
   "execution_count": null,
   "id": "be0421bf",
   "metadata": {},
   "outputs": [],
   "source": [
    "def convert_npdatetime2str(npdatetime):\n",
    "    import pandas as pd\n",
    "    ts = pd.to_datetime(str(npdatetime))\n",
    "    return ts.strftime(\"%Y-%m-%d %H:%M:%S\")"
   ]
  },
  {
   "cell_type": "code",
   "execution_count": null,
   "id": "d85349d1",
   "metadata": {},
   "outputs": [],
   "source": [
    "fig, ax = creat_map(bbox=bbox, figsize=(9, 9));"
   ]
  },
  {
   "cell_type": "code",
   "execution_count": null,
   "id": "f5ed7ead",
   "metadata": {
    "scrolled": false
   },
   "outputs": [],
   "source": [
    "from xmovie import Movie\n",
    "\n",
    "\n",
    "vmin, vmax =-0.5, 0.5\n",
    "\n",
    "def custom_plot_function(ds, fig, tt, *args, **kwargs):\n",
    "    ax = fig.gca()\n",
    "    vmin, vmax =-1.5, 1.9  # Data min/max but we will less to highligh the tides inside the bays.\n",
    "    ds.isel(time=tt).plot(ax=ax, vmin=vmin, vmax=vmax, cmap=\"RdBu_r\")\n",
    "\n",
    "    npdatetime = ds[\"time\"][tt].to_numpy()\n",
    "    title = convert_npdatetime2str(npdatetime)\n",
    "    ax.set_title(title)\n",
    "    return None, None\n",
    "\n",
    "\n",
    "chunked = subset.cf[\"sea_surface_height\"].T.chunk({\"time\": 1})\n",
    "mov = Movie(chunked, custom_plot_function, vmin=vmin, vmax=vmax)"
   ]
  },
  {
   "cell_type": "markdown",
   "id": "f5ce31ce",
   "metadata": {},
   "source": [
    "## Check first time steps"
   ]
  },
  {
   "cell_type": "code",
   "execution_count": null,
   "id": "32a31679",
   "metadata": {},
   "outputs": [],
   "source": [
    "%matplotlib inline"
   ]
  },
  {
   "cell_type": "code",
   "execution_count": null,
   "id": "b1b7a4a8",
   "metadata": {},
   "outputs": [],
   "source": [
    "mov.preview(0)  # first hour"
   ]
  },
  {
   "cell_type": "code",
   "execution_count": null,
   "id": "d8c15e70",
   "metadata": {},
   "outputs": [],
   "source": [
    "mov.preview(1)  # second hour"
   ]
  },
  {
   "cell_type": "code",
   "execution_count": null,
   "id": "e99898d5",
   "metadata": {},
   "outputs": [],
   "source": [
    "mov.preview(2)  # third hour"
   ]
  },
  {
   "cell_type": "code",
   "execution_count": null,
   "id": "edecac2a",
   "metadata": {},
   "outputs": [],
   "source": [
    "mov.preview(11)  # twelfth hour"
   ]
  },
  {
   "cell_type": "markdown",
   "id": "21b0cc07",
   "metadata": {},
   "source": [
    "## Render movie"
   ]
  },
  {
   "cell_type": "code",
   "execution_count": null,
   "id": "bfd6d728",
   "metadata": {},
   "outputs": [],
   "source": [
    "filename = f\"{fname.stem}.mp4\"\n",
    "\n",
    "\n",
    "mov.save(\n",
    "    filename=filename,\n",
    "    progress=True,\n",
    "    parallel=True,\n",
    "    parallel_compute_kwargs={\"scheduler\": \"processes\", \"num_workers\": 3},\n",
    "    overwrite_existing=True,\n",
    ")"
   ]
  },
  {
   "cell_type": "code",
   "execution_count": null,
   "id": "6ead0ae5",
   "metadata": {},
   "outputs": [],
   "source": [
    "from IPython.display import HTML\n",
    "\n",
    "\n",
    "HTML(f\"\"\"\n",
    "    <video alt=\"test\" controls style=\"outline:none; width:70%; height:70%;\">\n",
    "        <source src=\"{filename}\" type=\"video/mp4\">\n",
    "    </video>\n",
    "\"\"\")"
   ]
  }
 ],
 "metadata": {
  "kernelspec": {
   "display_name": "Python 3 (ipykernel)",
   "language": "python",
   "name": "python3"
  },
  "language_info": {
   "codemirror_mode": {
    "name": "ipython",
    "version": 3
   },
   "file_extension": ".py",
   "mimetype": "text/x-python",
   "name": "python",
   "nbconvert_exporter": "python",
   "pygments_lexer": "ipython3",
   "version": "3.10.6"
  }
 },
 "nbformat": 4,
 "nbformat_minor": 5
}
